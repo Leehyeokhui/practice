{
 "cells": [
  {
   "cell_type": "code",
   "execution_count": 1,
   "metadata": {},
   "outputs": [
    {
     "name": "stdout",
     "output_type": "stream",
     "text": [
      "크롤링할 키워드는 무엇입니까?: 봄여행\n",
      "검색 결과를 저장할 파일경로와 이름을 지정하세요(예:C:\\study\\python\\notebook\\data\\test.txt): C:\\\\LHH\\\\study\\\\python\\\\notebook\\data\\\\test.txt\n"
     ]
    }
   ],
   "source": [
    " #Step 0. 필요한 모듈과 라이브러리를 로딩하고 검색어를 입력 받습니다\n",
    "from bs4 import BeautifulSoup     \n",
    "from selenium import webdriver\n",
    "import time\n",
    " \n",
    "query_txt = input('크롤링할 키워드는 무엇입니까?: ')\n",
    "f_name = input('검색 결과를 저장할 파일경로와 이름을 지정하세요(예:C:\\\\study\\\\python\\\\notebook\\data\\\\test.txt): ')\n",
    " \n",
    "#Step 1. 크롬 드라이버를 사용해서 웹 브라우저를 실행합니다.\n",
    "path = \"C:/LHH/study/python/datadown/chromedriver.exe\"\n",
    "driver = webdriver.Chrome(path)\n",
    " \n",
    "driver.get(\"https://korean.visitkorea.or.kr\")\n",
    "time.sleep(2)  # 위 페이지가 모두 열릴 때 까지 2초 기다립니다.\n",
    " \n",
    "#코로나 얼럿창 있을 경우 닫기 클릭하기 //*[@id=\"chkForm01\"]\n",
    "try :\n",
    "    driver.find_element_by_xpath('//*[@id=\"chkForm01\"]').click()\n",
    "except :\n",
    "    print(\"코로나 창이 없습니다\")\n",
    "    \n",
    "#Step 2. 검색창의 이름을 찾아서 검색어를 입력합니다\n",
    "element = driver.find_element_by_id(\"inp_search\")\n",
    "element.send_keys(query_txt)\n",
    "element.send_keys(\"\\n\") #Enter 효과"
   ]
  },
  {
   "cell_type": "code",
   "execution_count": 2,
   "metadata": {},
   "outputs": [],
   "source": [
    "full_html = driver.page_source"
   ]
  },
  {
   "cell_type": "code",
   "execution_count": 3,
   "metadata": {},
   "outputs": [],
   "source": [
    "soup = BeautifulSoup(full_html, 'html.parser')"
   ]
  },
  {
   "cell_type": "code",
   "execution_count": 4,
   "metadata": {},
   "outputs": [
    {
     "data": {
      "text/plain": [
       "<ul class=\"list_thumType type1\"><li><div class=\"photo\"><a href=\"javascript:goSearchDetail('98dddf4d-2fd7-4db8-adc2-3a45fcfd88b7');\"> <img alt=\"봄바람 따라 살랑살랑 통영 1박2일 여행코스\" src=\"https://cdn.visitkorea.or.kr/img/call?cmd=VIEW&amp;id=877a53fb-c4f5-47ec-9715-4cd628751d6d\"/> </a></div> <div class=\"area_txt\"> <div class=\"tit\"> <a href=\"javascript:goSearchDetail('98dddf4d-2fd7-4db8-adc2-3a45fcfd88b7');\"><em></em><!--HS-->봄<!--HE-->바람 따라 살랑살랑 통영 1박2일 <!--HS-->여행<!--HE-->코스</a> </div> <div class=\"service\"> <p>경상남도 통영시</p> <ul class=\"brandingIcon\" id=\"branding_98dddf4d-2fd7-4db8-adc2-3a45fcfd88b7\"> </ul> </div> <p class=\"tag_type\"><span>#<em></em>통영</span><span>#<em></em>통영1박2일코스</span><span>#<em></em>통영가볼만한곳</span><span>#<em></em>장사도해상공원</span><span>#<em></em>박경리기념관</span><span>#<em></em>미래사</span><span>#<em></em>서피랑</span><span>#<em></em><em>봄여행</em></span><span>#<em></em><em>봄여행</em>지</span><span>#<em></em><em>봄여행</em>지추천</span><span>#<em></em>취향따라_떠나는_특별한_보통날</span><span>#<em></em><em>봄여행</em>주간</span><span>#<em></em>미리봄_여행지</span> </p></div><button class=\"btn_view\" title=\"열기\" type=\"button\">더보기</button><div class=\"pop_subMenu\"> <ul> <li class=\"btn_far\"><a href=\"javascript:\" onclick='setFavoContent(\"98dddf4d-2fd7-4db8-adc2-3a45fcfd88b7\")'>즐겨찾기</a></li> <li class=\"btn_share\" id=\"98dddf4d-2fd7-4db8-adc2-3a45fcfd88b7\"><a href=\"javascript:\" onclick='getShareInfo(\"%3C!HS%3E%EB%B4%84%3C!HE%3E%EB%B0%94%EB%9E%8C%20%EB%94%B0%EB%9D%BC%20%EC%82%B4%EB%9E%91%EC%82%B4%EB%9E%91%20%ED%86%B5%EC%98%81%201%EB%B0%952%EC%9D%BC%20%3C!HS%3E%EC%97%AC%ED%96%89%3C!HE%3E%EC%BD%94%EC%8A%A4\",\"877a53fb-c4f5-47ec-9715-4cd628751d6d\",\"98dddf4d-2fd7-4db8-adc2-3a45fcfd88b7\",\"304\");'>공유하기</a></li> </ul></div></li><li><div class=\"photo\"><a href=\"javascript:goSearchDetail('3c1a0943-222c-4c05-8c96-aff576753602');\"> <img alt=\"걷고, 먹고, 즐기고··· 포항으로 떠나는 봄 별미 여행\" src=\"https://cdn.visitkorea.or.kr/img/call?cmd=VIEW&amp;id=898807f6-016c-4945-a560-4b96950ba32d\"/> </a></div> <div class=\"area_txt\"> <div class=\"tit\"> <a href=\"javascript:goSearchDetail('3c1a0943-222c-4c05-8c96-aff576753602');\"><em></em>걷고, 먹고, 즐기고··· 포항으로 떠나는 <!--HS-->봄<!--HE--> 별미 <!--HS-->여행<!--HE--></a> </div> <div class=\"service\"> <p>경상북도 포항시</p> <ul class=\"brandingIcon\" id=\"branding_3c1a0943-222c-4c05-8c96-aff576753602\"> </ul> </div> <p class=\"tag_type\"><span>#<em></em>트레킹</span><span>#<em></em>내연산계곡</span><span>#<em></em>보경사</span><span>#<em></em>경상북도수목원</span><span>#<em></em>연산폭포</span><span>#<em></em>관음폭포</span><span>#<em></em>기청산식물원</span><span>#<em></em>사방기념공원</span><span>#<em></em>죽도시장</span><span>#<em></em>맛집</span><span>#<em></em>물회</span><span>#<em></em>포항운하</span><span>#<em></em>영일대해수욕장</span><span>#<em></em>구룡포</span><span>#<em></em>근대문화역사거리</span><span>#<em></em>추천가볼만한곳</span><span>#<em></em>포항가볼만한곳</span><span>#<em></em>포항당일코스</span><span>#<em></em>포항1박2일코스</span><span>#<em></em>포항맛집</span><span>#<em></em>미식여행</span><span>#<em></em>모리국수</span><span>#<em></em>2015년5월추천가볼만한곳</span><span>#<em></em>5월추천가볼만한곳</span><span>#<em></em>봄_제철음식</span> </p></div><button class=\"btn_view\" title=\"열기\" type=\"button\">더보기</button><div class=\"pop_subMenu\"> <ul> <li class=\"btn_far\"><a href=\"javascript:\" onclick='setFavoContent(\"3c1a0943-222c-4c05-8c96-aff576753602\")'>즐겨찾기</a></li> <li class=\"btn_share\" id=\"3c1a0943-222c-4c05-8c96-aff576753602\"><a href=\"javascript:\" onclick='getShareInfo(\"%EA%B1%B7%EA%B3%A0%2C%20%EB%A8%B9%EA%B3%A0%2C%20%EC%A6%90%EA%B8%B0%EA%B3%A0%C2%B7%C2%B7%C2%B7%20%ED%8F%AC%ED%95%AD%EC%9C%BC%EB%A1%9C%20%EB%96%A0%EB%82%98%EB%8A%94%20%3C!HS%3E%EB%B4%84%3C!HE%3E%20%EB%B3%84%EB%AF%B8%20%3C!HS%3E%EC%97%AC%ED%96%89%3C!HE%3E\",\"898807f6-016c-4945-a560-4b96950ba32d\",\"3c1a0943-222c-4c05-8c96-aff576753602\",\"304\");'>공유하기</a></li> </ul></div></li><li><div class=\"photo\"><a href=\"javascript:goSearchDetail('ae10aa9d-1f9a-40e4-9c16-40e489ce1d97');\"> <img alt=\"[강원] 강원도 '다시 봄!' - 봄 여행에 어울리는 강원도 숙소 모음\" src=\"https://cdn.visitkorea.or.kr/img/call?cmd=VIEW&amp;id=81852909-ad85-456e-a837-349b5fc75915\"/> </a></div> <div class=\"area_txt\"> <div class=\"tit\"> <a href=\"javascript:goSearchDetail('ae10aa9d-1f9a-40e4-9c16-40e489ce1d97');\"><em></em>[강원] 강원도 '다시 <!--HS-->봄<!--HE-->!' - <!--HS-->봄<!--HE--> <!--HS-->여행<!--HE-->에 어울리는 강원도 숙소 모음</a> </div> <div class=\"service\"> <p>강원도 </p> <ul class=\"brandingIcon\" id=\"branding_ae10aa9d-1f9a-40e4-9c16-40e489ce1d97\"> </ul> </div> <p class=\"tag_type\"><span>#<em></em>한국관광품질인증</span><span>#<em></em>여행기사</span><span>#<em></em>추천숙박</span><span>#<em></em>파로호한옥펜션</span><span>#<em></em>강릉오죽한옥마을</span><span>#<em></em>호텔탑스빌</span><span>#<em></em>MGM호텔</span><span>#<em></em>피카소호텔</span><span>#<em></em>화천</span><span>#<em></em>강릉</span><span>#<em></em>동해</span><span>#<em></em>바다</span><span>#<em></em>강원숙소</span><span>#<em></em>인증숙소</span><span>#<em></em>우수숙소</span><span>#<em></em>봄!_가족과_함께</span><span>#<em></em>강원도여행</span> </p></div><button class=\"btn_view\" title=\"열기\" type=\"button\">더보기</button><div class=\"pop_subMenu\"> <ul> <li class=\"btn_far\"><a href=\"javascript:\" onclick='setFavoContent(\"ae10aa9d-1f9a-40e4-9c16-40e489ce1d97\")'>즐겨찾기</a></li> <li class=\"btn_share\" id=\"ae10aa9d-1f9a-40e4-9c16-40e489ce1d97\"><a href=\"javascript:\" onclick='getShareInfo(\"%5B%EA%B0%95%EC%9B%90%5D%20%EA%B0%95%EC%9B%90%EB%8F%84%20%26%2339%3B%EB%8B%A4%EC%8B%9C%20%3C!HS%3E%EB%B4%84%3C!HE%3E!%26%2339%3B%20-%20%3C!HS%3E%EB%B4%84%3C!HE%3E%20%3C!HS%3E%EC%97%AC%ED%96%89%3C!HE%3E%EC%97%90%20%EC%96%B4%EC%9A%B8%EB%A6%AC%EB%8A%94%20%EA%B0%95%EC%9B%90%EB%8F%84%20%EC%88%99%EC%86%8C%20%EB%AA%A8%EC%9D%8C\",\"81852909-ad85-456e-a837-349b5fc75915\",\"ae10aa9d-1f9a-40e4-9c16-40e489ce1d97\",\"304\");'>공유하기</a></li> </ul></div></li><li><div class=\"photo\"><a href=\"javascript:goSearchDetail('295c1f7d-b11a-4880-8b04-7f3fb15379a2');\"> <img alt=\"세계자연유산(UNESCO)의 봄을 느끼며, 제주도 동부 여행\" src=\"https://cdn.visitkorea.or.kr/img/call?cmd=VIEW&amp;id=3c06b358-5a49-4c21-9fef-dc5ce666cc67\"/> </a></div> <div class=\"area_txt\"> <div class=\"tit\"> <a href=\"javascript:goSearchDetail('295c1f7d-b11a-4880-8b04-7f3fb15379a2');\"><em></em>세계자연유산(UNESCO)의 <!--HS-->봄<!--HE-->을 느끼며, 제주도 동부 <!--HS-->여행<!--HE--></a> </div> <div class=\"service\"> <p>제주도 </p> <ul class=\"brandingIcon\" id=\"branding_295c1f7d-b11a-4880-8b04-7f3fb15379a2\"> </ul> </div> <p class=\"tag_type\"><span>#<em></em>장애인추천코스</span><span>#<em></em>제주가볼만한곳</span><span>#<em></em>제주당일코스</span><span>#<em></em>제주민속촌</span><span>#<em></em>제주올레길</span><span>#<em></em>제주해녀박물관</span><span>#<em></em>김녕어울림센터</span><span>#<em></em>월정리해변</span><span>#<em></em>제주돌문화공원</span><span>#<em></em>절물자연휴양림</span><span>#<em></em>메이즈랜드</span><span>#<em></em>두맹이골목</span><span>#<em></em>제주1박2일코스</span><span>#<em></em>제주2박3일코스</span><span>#<em></em>무장애여행지</span><span>#<em></em>장애인추천여행지</span><span>#<em></em>풍경여행</span><span>#<em></em>성산포JC공원</span><span>#<em></em>유채꽃</span><span>#<em></em>오디오가이드</span><span>#<em></em>청굴물</span><span>#<em></em>제주돌박물관</span><span>#<em></em>삼울길</span><span>#<em></em>제주맛집</span><span>#<em></em>봄!_가족과_함께</span><span>#<em></em>인증샷투어</span><span>#<em></em>공공누리</span> </p></div><button class=\"btn_view\" title=\"열기\" type=\"button\">더보기</button><div class=\"pop_subMenu\"> <ul> <li class=\"btn_far\"><a href=\"javascript:\" onclick='setFavoContent(\"295c1f7d-b11a-4880-8b04-7f3fb15379a2\")'>즐겨찾기</a></li> <li class=\"btn_share\" id=\"295c1f7d-b11a-4880-8b04-7f3fb15379a2\"><a href=\"javascript:\" onclick='getShareInfo(\"%EC%84%B8%EA%B3%84%EC%9E%90%EC%97%B0%EC%9C%A0%EC%82%B0(UNESCO)%EC%9D%98%20%3C!HS%3E%EB%B4%84%3C!HE%3E%EC%9D%84%20%EB%8A%90%EB%81%BC%EB%A9%B0%2C%20%EC%A0%9C%EC%A3%BC%EB%8F%84%20%EB%8F%99%EB%B6%80%20%3C!HS%3E%EC%97%AC%ED%96%89%3C!HE%3E\",\"3c06b358-5a49-4c21-9fef-dc5ce666cc67\",\"295c1f7d-b11a-4880-8b04-7f3fb15379a2\",\"304\");'>공유하기</a></li> </ul></div></li><li class=\"banner_area\"> <div class=\"pc\"> <a class=\"banner0\" href=\"https://korean.visitkorea.or.kr/detail/rem_detail.do?cotid=32709444-4880-4085-9ad8-6f0f7cc3b3d2&amp;temp=\"><span><img alt=\"클럽하우스보다 핫하다는 인싸여행 필수템! 트래블 클럽 01, 두근두근 미리 설레 봄\" src=\"https://cdn.visitkorea.or.kr/img/call?cmd=VIEW&amp;id=e3d840cc-7d3e-4c74-9694-c2d52a606ca6\"/></span></a> <a class=\"banner1\" href=\"https://korean.visitkorea.or.kr/detail/rem_detail.do?cotid=a074bcc0-cee0-4b22-a9f5-372bf19f2309&amp;temp=\"><span><img alt=\"댕댕이와 여행하개! 펫팸족을 위한 전국 반려견 동반 여행지 50\" src=\"https://cdn.visitkorea.or.kr/img/call?cmd=VIEW&amp;id=200c26a4-913b-456f-90d8-de8f5f3c326f\"/></span></a> </div></li><li><div class=\"photo\"><a href=\"javascript:goSearchDetail('47ea8384-b1c1-43b9-881e-6a9a0c1b4f07');\"> <img alt=\"노란 산수유꽃 가득한 포근한 봄여행\" src=\"https://cdn.visitkorea.or.kr/img/call?cmd=VIEW&amp;id=6369eb1d-4196-44b9-b028-698d22aaf993\"/> </a></div> <div class=\"area_txt\"> <div class=\"tit\"> <a href=\"javascript:goSearchDetail('47ea8384-b1c1-43b9-881e-6a9a0c1b4f07');\"><em></em>노란 산수유꽃 가득한 포근한 <!--HS--><em>봄여행</em><!--HE--></a> </div> <div class=\"service\"> <p>전라남도 구례군</p> <ul class=\"brandingIcon\" id=\"branding_47ea8384-b1c1-43b9-881e-6a9a0c1b4f07\"> </ul> </div> <p class=\"tag_type\"><span>#<em></em>당일코스</span><span>#<em></em>1박2일</span><span>#<em></em>2박3일</span><span>#<em></em>추천코스</span><span>#<em></em>가족코스</span><span>#<em></em>힐링코스</span><span>#<em></em>자연코스</span><span>#<em></em><em>봄여행</em>지</span> </p></div> <p class=\"ar_tag\"> <span>지리산길 산수유마을</span> <span>천은사</span> <span>농업기술센터 자연생태학습장</span> </p><button class=\"btn_view\" title=\"열기\" type=\"button\">더보기</button><div class=\"pop_subMenu\"> <ul> <li class=\"btn_far\"><a href=\"javascript:\" onclick='setFavoContent(\"47ea8384-b1c1-43b9-881e-6a9a0c1b4f07\")'>즐겨찾기</a></li> <li class=\"btn_share\" id=\"47ea8384-b1c1-43b9-881e-6a9a0c1b4f07\"><a href=\"javascript:\" onclick='getShareInfo(\"%EB%85%B8%EB%9E%80%20%EC%82%B0%EC%88%98%EC%9C%A0%EA%BD%83%20%EA%B0%80%EB%93%9D%ED%95%9C%20%ED%8F%AC%EA%B7%BC%ED%95%9C%20%3C!HS%3E%EB%B4%84%EC%97%AC%ED%96%89%3C!HE%3E\",\"6369eb1d-4196-44b9-b028-698d22aaf993\",\"47ea8384-b1c1-43b9-881e-6a9a0c1b4f07\",\"25\");'>공유하기</a></li> <li class=\"btn_cart\" id=\"47ea8384-b1c1-43b9-881e-6a9a0c1b4f07\"><a href=\"javascript:\" onclick='myCourseList(\"C\",\"25\",\"47ea8384-b1c1-43b9-881e-6a9a0c1b4f07\",\"\")'>코스에 담기</a></li> </ul></div></li><li><div class=\"photo\"><a href=\"javascript:goSearchDetail('5d063ecc-ff86-4b7e-8ad8-85ce5ae9008c');\"> <img alt=\"봄의 유혹, 유채와 튤립을 가슴에 담다 &lt;br&gt;'경남 남해 봄꽃 여행'\" src=\"https://cdn.visitkorea.or.kr/img/call?cmd=VIEW&amp;id=24187bfe-a4c2-4c7f-b59d-ef7ea826afff\"/> </a></div> <div class=\"area_txt\"> <div class=\"tit\"> <a href=\"javascript:goSearchDetail('5d063ecc-ff86-4b7e-8ad8-85ce5ae9008c');\"><em></em><!--HS-->봄<!--HE-->의 유혹, 유채와 튤립을 가슴에 담다 <br/>'경남 남해 <!--HS-->봄<!--HE-->꽃 <!--HS-->여행<!--HE-->'</a> </div> <div class=\"service\"> <p>경상남도 남해군</p> <ul class=\"brandingIcon\" id=\"branding_5d063ecc-ff86-4b7e-8ad8-85ce5ae9008c\"> </ul> </div> <p class=\"tag_type\"><span>#<em></em>봄꽃여행</span><span>#<em></em>봄꽃열전</span><span>#<em></em>봄꽃축제</span> </p></div><button class=\"btn_view\" title=\"열기\" type=\"button\">더보기</button><div class=\"pop_subMenu\"> <ul> <li class=\"btn_far\"><a href=\"javascript:\" onclick='setFavoContent(\"5d063ecc-ff86-4b7e-8ad8-85ce5ae9008c\")'>즐겨찾기</a></li> <li class=\"btn_share\" id=\"5d063ecc-ff86-4b7e-8ad8-85ce5ae9008c\"><a href=\"javascript:\" onclick='getShareInfo(\"%3C!HS%3E%EB%B4%84%3C!HE%3E%EC%9D%98%20%EC%9C%A0%ED%98%B9%2C%20%EC%9C%A0%EC%B1%84%EC%99%80%20%ED%8A%A4%EB%A6%BD%EC%9D%84%20%EA%B0%80%EC%8A%B4%EC%97%90%20%EB%8B%B4%EB%8B%A4%20%3Cbr%3E%26%2339%3B%EA%B2%BD%EB%82%A8%20%EB%82%A8%ED%95%B4%20%3C!HS%3E%EB%B4%84%3C!HE%3E%EA%BD%83%20%3C!HS%3E%EC%97%AC%ED%96%89%3C!HE%3E%26%2339%3B\",\"24187bfe-a4c2-4c7f-b59d-ef7ea826afff\",\"5d063ecc-ff86-4b7e-8ad8-85ce5ae9008c\",\"304\");'>공유하기</a></li> </ul></div></li><li><div class=\"photo\"><a href=\"javascript:goSearchDetail('1211a414-7157-485f-b92f-72d902227263');\"> <img alt=\"아침부터 밤까지, 봄 냄새 가득한 '사천' 여행\" src=\"https://cdn.visitkorea.or.kr/img/call?cmd=VIEW&amp;id=e69ed84c-1294-433e-abcd-33e384b15e6e\"/> </a></div> <div class=\"area_txt\"> <div class=\"tit\"> <a href=\"javascript:goSearchDetail('1211a414-7157-485f-b92f-72d902227263');\"><em></em>아침부터 밤까지, <!--HS-->봄<!--HE--> 냄새 가득한 '사천' <!--HS-->여행<!--HE--></a> </div> <div class=\"service\"> <p>경상남도 사천시</p> <ul class=\"brandingIcon\" id=\"branding_1211a414-7157-485f-b92f-72d902227263\"> </ul> </div> <p class=\"tag_type\"><span>#<em></em>사천여행</span><span>#<em></em>사천여행코스</span><span>#<em></em>사천가볼만한곳</span><span>#<em></em><em>봄여행</em></span><span>#<em></em>수양공원</span><span>#<em></em>사천읍성</span><span>#<em></em>포담</span><span>#<em></em>실안해안도로</span><span>#<em></em>삼천포대교</span> </p></div><button class=\"btn_view\" title=\"열기\" type=\"button\">더보기</button><div class=\"pop_subMenu\"> <ul> <li class=\"btn_far\"><a href=\"javascript:\" onclick='setFavoContent(\"1211a414-7157-485f-b92f-72d902227263\")'>즐겨찾기</a></li> <li class=\"btn_share\" id=\"1211a414-7157-485f-b92f-72d902227263\"><a href=\"javascript:\" onclick='getShareInfo(\"%EC%95%84%EC%B9%A8%EB%B6%80%ED%84%B0%20%EB%B0%A4%EA%B9%8C%EC%A7%80%2C%20%3C!HS%3E%EB%B4%84%3C!HE%3E%20%EB%83%84%EC%83%88%20%EA%B0%80%EB%93%9D%ED%95%9C%20%26%2339%3B%EC%82%AC%EC%B2%9C%26%2339%3B%20%3C!HS%3E%EC%97%AC%ED%96%89%3C!HE%3E\",\"e69ed84c-1294-433e-abcd-33e384b15e6e\",\"1211a414-7157-485f-b92f-72d902227263\",\"304\");'>공유하기</a></li> </ul></div></li><li><div class=\"photo\"><a href=\"javascript:goSearchDetail('3ee1e7b6-ae3c-4e18-86b8-4c573e6a73bd');\"> <img alt=\"마음을 나누는 엄마 딸 여행, 서울 남산 주변과 한강 물길 봄나들이\" src=\"https://cdn.visitkorea.or.kr/img/call?cmd=VIEW&amp;id=ab0ce4d1-0891-424c-ac2e-c5adc0955ae5\"/> </a></div> <div class=\"area_txt\"> <div class=\"tit\"> <a href=\"javascript:goSearchDetail('3ee1e7b6-ae3c-4e18-86b8-4c573e6a73bd');\"><em></em>마음을 나누는 엄마 딸 <!--HS-->여행<!--HE-->, 서울 남산 주변과 한강 물길 <!--HS-->봄<!--HE-->나들이</a> </div> <div class=\"service\"> <p>서울 </p> <ul class=\"brandingIcon\" id=\"branding_3ee1e7b6-ae3c-4e18-86b8-4c573e6a73bd\"> </ul> </div> <p class=\"tag_type\"><span>#<em></em>서울가볼만한곳</span><span>#<em></em>아이와함께</span><span>#<em></em>친구와함께</span><span>#<em></em>연인과함께</span><span>#<em></em>봄에가볼만한곳</span><span>#<em></em>충무로역</span><span>#<em></em>오재미동</span><span>#<em></em>영상예술</span><span>#<em></em>예술통</span><span>#<em></em>거리미술관</span><span>#<em></em>필동</span><span>#<em></em>남산골한옥마을</span><span>#<em></em>전통가옥</span><span>#<em></em>국악당</span><span>#<em></em>체험학습</span><span>#<em></em>전통문화체험</span><span>#<em></em>서울천년타임캡슐광장</span><span>#<em></em>남산케이블카</span><span>#<em></em>N서울타워</span><span>#<em></em>남산</span><span>#<em></em>한양도성성곽길</span><span>#<em></em>안중근의사기념관</span><span>#<em></em>남산도서관</span><span>#<em></em>서울여행코스</span><span>#<em></em>양화한강공원</span><span>#<em></em>한강</span><span>#<em></em>피크닉</span><span>#<em></em>나들이</span><span>#<em></em>봄나들이</span><span>#<em></em>선유도공원</span><span>#<em></em>카페나루</span><span>#<em></em>서울맛집</span><span>#<em></em>달강</span><span>#<em></em>서래섬</span><span>#<em></em>세빛섬</span><span>#<em></em>튜브스터</span><span>#<em></em>밤도깨비야시장</span><span>#<em></em>낭만달빛마켓</span><span>#<em></em>반포한강공원야시장</span><span>#<em></em>반포한강공원</span><span>#<em></em>서울밤도깨비야시장</span><span>#<em></em>스트리트뮤지엄</span><span>#<em></em>힐링</span><span>#<em></em>한강자전거</span> </p></div><button class=\"btn_view\" title=\"열기\" type=\"button\">더보기</button><div class=\"pop_subMenu\"> <ul> <li class=\"btn_far\"><a href=\"javascript:\" onclick='setFavoContent(\"3ee1e7b6-ae3c-4e18-86b8-4c573e6a73bd\")'>즐겨찾기</a></li> <li class=\"btn_share\" id=\"3ee1e7b6-ae3c-4e18-86b8-4c573e6a73bd\"><a href=\"javascript:\" onclick='getShareInfo(\"%EB%A7%88%EC%9D%8C%EC%9D%84%20%EB%82%98%EB%88%84%EB%8A%94%20%EC%97%84%EB%A7%88%20%EB%94%B8%20%3C!HS%3E%EC%97%AC%ED%96%89%3C!HE%3E%2C%20%EC%84%9C%EC%9A%B8%20%EB%82%A8%EC%82%B0%20%EC%A3%BC%EB%B3%80%EA%B3%BC%20%ED%95%9C%EA%B0%95%20%EB%AC%BC%EA%B8%B8%20%3C!HS%3E%EB%B4%84%3C!HE%3E%EB%82%98%EB%93%A4%EC%9D%B4\",\"ab0ce4d1-0891-424c-ac2e-c5adc0955ae5\",\"3ee1e7b6-ae3c-4e18-86b8-4c573e6a73bd\",\"304\");'>공유하기</a></li> </ul></div></li><li><div class=\"photo\"><a href=\"javascript:goSearchDetail('5bdee712-f484-4d63-80a7-0a2df70afc1b');\"> <img alt=\"한국관광공사 추천 5월 걷기여행길, 싱그러운 봄 날씨와 어울리는 길\" src=\"https://cdn.visitkorea.or.kr/img/call?cmd=VIEW&amp;id=d5a9e5b6-6261-435f-aaa0-be073b1ea360\"/> </a></div> <div class=\"area_txt\"> <div class=\"tit\"> <a href=\"javascript:goSearchDetail('5bdee712-f484-4d63-80a7-0a2df70afc1b');\"><em></em>한국관광공사 추천 5월 걷기<!--HS-->여행<!--HE-->길, 싱그러운 <!--HS-->봄<!--HE--> 날씨와 어울리는 길</a> </div> <div class=\"service\"> <p>경기도 </p> <ul class=\"brandingIcon\" id=\"branding_5bdee712-f484-4d63-80a7-0a2df70afc1b\"> </ul> </div> <p class=\"tag_type\"><span>#<em></em>대부해솔길</span><span>#<em></em>안산가볼만한곳</span><span>#<em></em>트레킹코스</span><span>#<em></em>선비순례길</span><span>#<em></em>선성현길</span><span>#<em></em>안동가볼만한곳</span><span>#<em></em>힐링</span><span>#<em></em>휴양여행</span><span>#<em></em>힐링여행</span><span>#<em></em>걷기여행</span><span>#<em></em>팔공산올레길</span><span>#<em></em>부인사도보길</span><span>#<em></em>대구가볼만한곳</span><span>#<em></em>진안고원길</span><span>#<em></em>감동벼룻길</span><span>#<em></em>진안가볼만한곳</span><span>#<em></em>버그내순례길</span><span>#<em></em>당진가볼만한곳</span><span>#<em></em>오리숲길</span><span>#<em></em>세조길</span><span>#<em></em>보은가볼만한곳</span><span>#<em></em>가야산소리길</span><span>#<em></em>해인사소리길</span><span>#<em></em>합천가볼만한곳</span><span>#<em></em>한국관광7선</span><span>#<em></em>싱그러운봄</span><span>#<em></em>가정의달</span><span>#<em></em><em>봄여행</em></span><span>#<em></em>걷기여행길</span> </p></div><button class=\"btn_view\" title=\"열기\" type=\"button\">더보기</button><div class=\"pop_subMenu\"> <ul> <li class=\"btn_far\"><a href=\"javascript:\" onclick='setFavoContent(\"5bdee712-f484-4d63-80a7-0a2df70afc1b\")'>즐겨찾기</a></li> <li class=\"btn_share\" id=\"5bdee712-f484-4d63-80a7-0a2df70afc1b\"><a href=\"javascript:\" onclick='getShareInfo(\"%ED%95%9C%EA%B5%AD%EA%B4%80%EA%B4%91%EA%B3%B5%EC%82%AC%20%EC%B6%94%EC%B2%9C%205%EC%9B%94%20%EA%B1%B7%EA%B8%B0%3C!HS%3E%EC%97%AC%ED%96%89%3C!HE%3E%EA%B8%B8%2C%20%EC%8B%B1%EA%B7%B8%EB%9F%AC%EC%9A%B4%20%3C!HS%3E%EB%B4%84%3C!HE%3E%20%EB%82%A0%EC%94%A8%EC%99%80%20%EC%96%B4%EC%9A%B8%EB%A6%AC%EB%8A%94%20%EA%B8%B8\",\"d5a9e5b6-6261-435f-aaa0-be073b1ea360\",\"5bdee712-f484-4d63-80a7-0a2df70afc1b\",\"304\");'>공유하기</a></li> </ul></div></li><li><div class=\"photo\"><a href=\"javascript:goSearchDetail('13c63e5d-cc5c-4b35-939f-905c9ec2a3b2');\"> <img alt=\"[KTX매거진] 남도 풍류길 따라 봄을 노래하다, 남도바닷길 여행\" src=\"https://cdn.visitkorea.or.kr/img/call?cmd=VIEW&amp;id=bffb31b1-4a08-4c35-bdca-4496104c6706\"/> </a></div> <div class=\"area_txt\"> <div class=\"tit\"> <a href=\"javascript:goSearchDetail('13c63e5d-cc5c-4b35-939f-905c9ec2a3b2');\"><em></em>[KTX매거진] 남도 풍류길 따라 <!--HS-->봄<!--HE-->을 노래하다, 남도바닷길 <!--HS-->여행<!--HE--></a> </div> <div class=\"service\"> <p>전라남도</p> <ul class=\"brandingIcon\" id=\"branding_13c63e5d-cc5c-4b35-939f-905c9ec2a3b2\"> </ul> </div> <p class=\"tag_type\"><span>#<em></em>대한민국 테마여행10선</span><span>#<em></em>남도바닷길</span><span>#<em></em>여수</span><span>#<em></em>여수향일암</span><span>#<em></em>순천</span><span>#<em></em>순천만정원</span><span>#<em></em>광양</span><span>#<em></em>광양매화마을</span><span>#<em></em>보성</span><span>#<em></em>보성녹차밭</span><span>#<em></em>KTX매거진</span><span>#<em></em>봄!_가족과_함께</span> </p></div><button class=\"btn_view\" title=\"열기\" type=\"button\">더보기</button><div class=\"pop_subMenu\"> <ul> <li class=\"btn_far\"><a href=\"javascript:\" onclick='setFavoContent(\"13c63e5d-cc5c-4b35-939f-905c9ec2a3b2\")'>즐겨찾기</a></li> <li class=\"btn_share\" id=\"13c63e5d-cc5c-4b35-939f-905c9ec2a3b2\"><a href=\"javascript:\" onclick='getShareInfo(\"%5BKTX%EB%A7%A4%EA%B1%B0%EC%A7%84%5D%20%EB%82%A8%EB%8F%84%20%ED%92%8D%EB%A5%98%EA%B8%B8%20%EB%94%B0%EB%9D%BC%20%3C!HS%3E%EB%B4%84%3C!HE%3E%EC%9D%84%20%EB%85%B8%EB%9E%98%ED%95%98%EB%8B%A4%2C%20%EB%82%A8%EB%8F%84%EB%B0%94%EB%8B%B7%EA%B8%B8%20%3C!HS%3E%EC%97%AC%ED%96%89%3C!HE%3E\",\"bffb31b1-4a08-4c35-bdca-4496104c6706\",\"13c63e5d-cc5c-4b35-939f-905c9ec2a3b2\",\"304\");'>공유하기</a></li> </ul></div></li></ul>"
      ]
     },
     "execution_count": 4,
     "metadata": {},
     "output_type": "execute_result"
    }
   ],
   "source": [
    "content_list = soup.find('ul','list_thumType type1')\n",
    "content_list"
   ]
  },
  {
   "cell_type": "code",
   "execution_count": 5,
   "metadata": {},
   "outputs": [
    {
     "name": "stdout",
     "output_type": "stream",
     "text": [
      "봄바람 따라 살랑살랑 통영 1박2일 여행코스   경상남도 통영시    #통영#통영1박2일코스#통영가볼만한곳#장사도해상공원#박경리기념관#미래사#서피랑#봄여행#봄여행지#봄여행지추천#취향따라_떠나는_특별한_보통날#봄여행주간#미리봄_여행지 더보기  즐겨찾기 공유하기\n",
      "\n",
      "\n",
      "걷고, 먹고, 즐기고··· 포항으로 떠나는 봄 별미 여행   경상북도 포항시    #트레킹#내연산계곡#보경사#경상북도수목원#연산폭포#관음폭포#기청산식물원#사방기념공원#죽도시장#맛집#물회#포항운하#영일대해수욕장#구룡포#근대문화역사거리#추천가볼만한곳#포항가볼만한곳#포항당일코스#포항1박2일코스#포항맛집#미식여행#모리국수#2015년5월추천가볼만한곳#5월추천가볼만한곳#봄_제철음식 더보기  즐겨찾기 공유하기\n",
      "\n",
      "\n",
      "[강원] 강원도 '다시 봄!' - 봄 여행에 어울리는 강원도 숙소 모음   강원도     #한국관광품질인증#여행기사#추천숙박#파로호한옥펜션#강릉오죽한옥마을#호텔탑스빌#MGM호텔#피카소호텔#화천#강릉#동해#바다#강원숙소#인증숙소#우수숙소#봄!_가족과_함께#강원도여행 더보기  즐겨찾기 공유하기\n",
      "\n",
      "\n",
      "세계자연유산(UNESCO)의 봄을 느끼며, 제주도 동부 여행   제주도     #장애인추천코스#제주가볼만한곳#제주당일코스#제주민속촌#제주올레길#제주해녀박물관#김녕어울림센터#월정리해변#제주돌문화공원#절물자연휴양림#메이즈랜드#두맹이골목#제주1박2일코스#제주2박3일코스#무장애여행지#장애인추천여행지#풍경여행#성산포JC공원#유채꽃#오디오가이드#청굴물#제주돌박물관#삼울길#제주맛집#봄!_가족과_함께#인증샷투어#공공누리 더보기  즐겨찾기 공유하기\n",
      "\n",
      "\n",
      "\n",
      "\n",
      "\n",
      "노란 산수유꽃 가득한 포근한 봄여행   전라남도 구례군    #당일코스#1박2일#2박3일#추천코스#가족코스#힐링코스#자연코스#봄여행지   지리산길 산수유마을 천은사 농업기술센터 자연생태학습장 더보기  즐겨찾기 공유하기 코스에 담기\n",
      "\n",
      "\n",
      "봄의 유혹, 유채와 튤립을 가슴에 담다 '경남 남해 봄꽃 여행'   경상남도 남해군    #봄꽃여행#봄꽃열전#봄꽃축제 더보기  즐겨찾기 공유하기\n",
      "\n",
      "\n",
      "아침부터 밤까지, 봄 냄새 가득한 '사천' 여행   경상남도 사천시    #사천여행#사천여행코스#사천가볼만한곳#봄여행#수양공원#사천읍성#포담#실안해안도로#삼천포대교 더보기  즐겨찾기 공유하기\n",
      "\n",
      "\n",
      "마음을 나누는 엄마 딸 여행, 서울 남산 주변과 한강 물길 봄나들이   서울     #서울가볼만한곳#아이와함께#친구와함께#연인과함께#봄에가볼만한곳#충무로역#오재미동#영상예술#예술통#거리미술관#필동#남산골한옥마을#전통가옥#국악당#체험학습#전통문화체험#서울천년타임캡슐광장#남산케이블카#N서울타워#남산#한양도성성곽길#안중근의사기념관#남산도서관#서울여행코스#양화한강공원#한강#피크닉#나들이#봄나들이#선유도공원#카페나루#서울맛집#달강#서래섬#세빛섬#튜브스터#밤도깨비야시장#낭만달빛마켓#반포한강공원야시장#반포한강공원#서울밤도깨비야시장#스트리트뮤지엄#힐링#한강자전거 더보기  즐겨찾기 공유하기\n",
      "\n",
      "\n",
      "한국관광공사 추천 5월 걷기여행길, 싱그러운 봄 날씨와 어울리는 길   경기도     #대부해솔길#안산가볼만한곳#트레킹코스#선비순례길#선성현길#안동가볼만한곳#힐링#휴양여행#힐링여행#걷기여행#팔공산올레길#부인사도보길#대구가볼만한곳#진안고원길#감동벼룻길#진안가볼만한곳#버그내순례길#당진가볼만한곳#오리숲길#세조길#보은가볼만한곳#가야산소리길#해인사소리길#합천가볼만한곳#한국관광7선#싱그러운봄#가정의달#봄여행#걷기여행길 더보기  즐겨찾기 공유하기\n",
      "\n",
      "\n",
      "[KTX매거진] 남도 풍류길 따라 봄을 노래하다, 남도바닷길 여행   전라남도    #대한민국 테마여행10선#남도바닷길#여수#여수향일암#순천#순천만정원#광양#광양매화마을#보성#보성녹차밭#KTX매거진#봄!_가족과_함께 더보기  즐겨찾기 공유하기\n",
      "\n",
      "\n"
     ]
    }
   ],
   "source": [
    "for i in content_list:\n",
    "    print(i.text.strip())\n",
    "    print(\"\\n\")"
   ]
  },
  {
   "cell_type": "code",
   "execution_count": 6,
   "metadata": {},
   "outputs": [],
   "source": [
    "import sys\n",
    "orig_stdout = sys.stdout\n",
    "f = open(f_name, 'a', encoding='utf-8')\n",
    "sys.stdout = f"
   ]
  },
  {
   "cell_type": "code",
   "execution_count": 7,
   "metadata": {},
   "outputs": [],
   "source": [
    "for i in content_list:\n",
    "    print(i.text.strip())\n",
    "    print(\"\\n\")"
   ]
  },
  {
   "cell_type": "code",
   "execution_count": 8,
   "metadata": {},
   "outputs": [],
   "source": [
    "sys.stdout = orig_stdout"
   ]
  },
  {
   "cell_type": "code",
   "execution_count": 9,
   "metadata": {},
   "outputs": [],
   "source": [
    "f.close()"
   ]
  },
  {
   "cell_type": "markdown",
   "metadata": {},
   "source": [
    "# 한 번에 크롤링하는 코드"
   ]
  },
  {
   "cell_type": "code",
   "execution_count": 10,
   "metadata": {},
   "outputs": [
    {
     "name": "stdout",
     "output_type": "stream",
     "text": [
      "크롤링할 키워드는 무엇입니까?: 여름여행\n",
      "검색 결과를 저장할 파일경로와 이름을 지정하세요(예:C:\\LHH\\study\\python\\notebook\\data\\test.txt): C:\\LHH\\study\\python\\notebook\\data\\test2.txt\n"
     ]
    }
   ],
   "source": [
    " #Step 0. 필요한 모듈과 라이브러리를 로딩하고 검색어를 입력 받습니다\n",
    "from bs4 import BeautifulSoup     \n",
    "from selenium import webdriver\n",
    "import time\n",
    " \n",
    "query_txt = input('크롤링할 키워드는 무엇입니까?: ')\n",
    "f_name = input('검색 결과를 저장할 파일경로와 이름을 지정하세요(예:C:\\\\LHH\\\\study\\\\python\\\\notebook\\data\\\\test.txt): ')\n",
    " \n",
    "#Step 1. 크롬 드라이버를 사용해서 웹 브라우저를 실행합니다.\n",
    "path = \"C:/LHH/study/python/datadown/chromedriver.exe\"\n",
    "driver = webdriver.Chrome(path)\n",
    " \n",
    "driver.get(\"https://korean.visitkorea.or.kr\")\n",
    "time.sleep(2)  # 위 페이지가 모두 열릴 때 까지 2초 기다립니다.\n",
    " \n",
    "#코로나 얼럿창 있을 경우 닫기 클릭하기 //*[@id=\"chkForm01\"]\n",
    "try :\n",
    "    driver.find_element_by_xpath('//*[@id=\"chkForm01\"]').click()\n",
    "except :\n",
    "    print(\"코로나 창이 없습니다\")\n",
    "    \n",
    "#Step 2. 검색창의 이름을 찾아서 검색어를 입력합니다\n",
    "element = driver.find_element_by_id(\"inp_search\")\n",
    "element.send_keys(query_txt)\n",
    "element.send_keys(\"\\n\") #Enter 효과\n",
    "\n",
    "full_html = driver.page_source\n",
    "soup = BeautifulSoup(full_html, 'html.parser')\n",
    "content_list = soup.find('ul','list_thumType type1')\n",
    "\n",
    "import sys\n",
    "orig_stdout = sys.stdout\n",
    "f = open(f_name, 'a', encoding='utf-8')\n",
    "sys.stdout = f\n",
    "\n",
    "time.sleep(1)\n",
    "\n",
    "for i in content_list:\n",
    "    print(i.text.strip())\n",
    "    print(\"\\n\")\n",
    "    \n",
    "sys.stdout = orig_stdout\n",
    "\n",
    "f.close()"
   ]
  }
 ],
 "metadata": {
  "kernelspec": {
   "display_name": "pydata",
   "language": "python",
   "name": "pydata"
  },
  "language_info": {
   "codemirror_mode": {
    "name": "ipython",
    "version": 3
   },
   "file_extension": ".py",
   "mimetype": "text/x-python",
   "name": "python",
   "nbconvert_exporter": "python",
   "pygments_lexer": "ipython3",
   "version": "3.7.10"
  }
 },
 "nbformat": 4,
 "nbformat_minor": 4
}
